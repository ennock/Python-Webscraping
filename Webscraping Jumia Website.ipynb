{
 "cells": [
  {
   "cell_type": "markdown",
   "id": "90af29e9",
   "metadata": {},
   "source": [
    "## Importing the libraries"
   ]
  },
  {
   "cell_type": "code",
   "execution_count": 14,
   "id": "daba6264",
   "metadata": {},
   "outputs": [],
   "source": [
    "import pandas as pd\n",
    "import numpy as np\n",
    "import requests\n",
    "from bs4 import BeautifulSoup\n",
    "from urllib import request"
   ]
  },
  {
   "cell_type": "code",
   "execution_count": 15,
   "id": "2c0d4a66",
   "metadata": {},
   "outputs": [],
   "source": [
    "url = \"https://www.jumia.co.ke/all-products/\"\n",
    "requests = requests.get(url)"
   ]
  },
  {
   "cell_type": "code",
   "execution_count": 16,
   "id": "affb09a5",
   "metadata": {},
   "outputs": [],
   "source": [
    "## Parsing the html soup\n",
    "soup = BeautifulSoup(requests.text,\"html.parser\")"
   ]
  },
  {
   "cell_type": "code",
   "execution_count": 20,
   "id": "baf9a8ac",
   "metadata": {},
   "outputs": [],
   "source": [
    "items = soup.find_all(\"article\", attrs = {\"class\":\"prd _fb col c-prd\"})"
   ]
  },
  {
   "cell_type": "code",
   "execution_count": 46,
   "id": "13518584",
   "metadata": {},
   "outputs": [
    {
     "name": "stdout",
     "output_type": "stream",
     "text": [
      "40\n"
     ]
    }
   ],
   "source": [
    "print(len(items))"
   ]
  },
  {
   "cell_type": "code",
   "execution_count": 22,
   "id": "30ecbb66",
   "metadata": {},
   "outputs": [
    {
     "name": "stdout",
     "output_type": "stream",
     "text": [
      "<article class=\"prd _fb col c-prd\"><a class=\"core\" data-gtm-brand=\"NIVEA\" data-gtm-category=\"Health &amp; Beauty/Beauty &amp; Personal Care/Personal Care/Skin Care/Face/Cleansers\" data-gtm-dimension23=\"\" data-gtm-dimension26=\"2214\" data-gtm-dimension27=\"4.5\" data-gtm-dimension28=\"1\" data-gtm-dimension37=\"0\" data-gtm-dimension43=\"BDEAL|BLF|BLF_02|Boost|COL_216|COL_224|COL_260|COL_295|COL_297|COL_302|COL_317|CP_24|CP_26|CP_MT117|CP_UN17|CP_UN19|CP_UN238|CP_UN247|CP_UN250|CP_UN255|CP_UN261|CP_UN34|CP_UN5|CP_UN9|CP_UN94|DOW_100|INV_CLEAR|JA23_01|JMALL|TBOOST|WCS|XMAS|XMAS22|XMAS22_01\" data-gtm-dimension44=\"0\" data-gtm-id=\"NI534ST01U2JENAFAMZ\" data-gtm-list=\"\" data-gtm-name=\"Perfect &amp; Radiant Even Tone Day And Night Cream For Women - 50ml\" data-gtm-position=\"1\" data-gtm-price=\"6.39\" data-track-onclick=\"eecProduct\" data-track-onview=\"eecProduct\" href=\"/nivea-perfect-radiant-even-tone-day-and-night-cream-for-women-50ml-68528030.html\"><div class=\"img-c\"><img alt=\"\" class=\"img\" data-lazy=\"true\" data-src=\"https://ke.jumia.is/unsafe/fit-in/300x300/filters:fill(white)/product/03/082586/1.jpg?3405\" height=\"208\" src=\"data:image/gif;base64,R0lGODlhAQABAIAAAAAAAP///yH5BAEAAAAALAAAAAABAAEAAAIBRAA7\" width=\"208\"/></div><div class=\"info\"><div class=\"bdg _mall _xs\">Official Store</div><h3 class=\"name\">NIVEA Perfect &amp; Radiant Even Tone Day And Night Cream For Women - 50ml</h3><div class=\"prc\">KSh 999</div><div class=\"s-prc-w\"><div class=\"old\">KSh 1,560</div><div class=\"bdg _dsct _sm\">36%</div></div><div class=\"rev\"><div class=\"stars _s\">4.5 out of 5<div class=\"in\" style=\"width:90%\"></div></div>(2214)</div><svg aria-label=\"Express Shipping\" class=\"ic xprss\" height=\"10\" viewbox=\"0 0 114 12\" width=\"94\"><use xlink:href=\"https://www.jumia.co.ke/assets_he/images/i-shop-jumia.9f5451c7.svg#express\"></use></svg></div></a><footer class=\"ft\"><form action=\"/cart/products/NI534ST01U2JENAFAMZ-85629275/quantity/\" class=\"-df -i-ctr -pr -j-bet\" data-add-cart=\"\" data-gtm-brand=\"NIVEA\" data-gtm-category=\"Health &amp; Beauty/Beauty &amp; Personal Care/Personal Care/Skin Care/Face/Cleansers\" data-gtm-dimension23=\"\" data-gtm-dimension26=\"2214\" data-gtm-dimension27=\"4.5\" data-gtm-dimension28=\"1\" data-gtm-dimension37=\"0\" data-gtm-dimension43=\"BDEAL|BLF|BLF_02|Boost|COL_216|COL_224|COL_260|COL_295|COL_297|COL_302|COL_317|CP_24|CP_26|CP_MT117|CP_UN17|CP_UN19|CP_UN238|CP_UN247|CP_UN250|CP_UN255|CP_UN261|CP_UN34|CP_UN5|CP_UN9|CP_UN94|DOW_100|INV_CLEAR|JA23_01|JMALL|TBOOST|WCS|XMAS|XMAS22|XMAS22_01\" data-gtm-dimension44=\"0\" data-gtm-id=\"NI534ST01U2JENAFAMZ\" data-gtm-name=\"Perfect &amp; Radiant Even Tone Day And Night Cream For Women - 50ml\" data-gtm-price=\"6.39\" data-gtm-simplesku=\"NI534ST01U2JENAFAMZ-85629275\" data-gtm-variant=\"\" data-sku=\"NI534ST01U2JENAFAMZ\" data-svar=\"NI534ST01U2JENAFAMZ-85629275\" data-track-onsubmit=\"addToCart\" data-xhr=\"true\" method=\"post\"><button class=\"add btn _prim -pea _md\" data-submit=\"\" name=\"action\" type=\"button\" value=\"in\">Add To Cart</button><input name=\"capiId\" type=\"hidden\" value=\"_1708154390_{eventType}\"/><input name=\"csrfToken\" type=\"hidden\" value=\"042816c7849d931f5cd5a3ebd151ddeb\"/></form></footer></article>\n"
     ]
    }
   ],
   "source": [
    "print(items[0])"
   ]
  },
  {
   "cell_type": "code",
   "execution_count": 25,
   "id": "63839dc1",
   "metadata": {},
   "outputs": [],
   "source": [
    "first_items = items[0]\n",
    "first_items_name =first_items.find(\"h3\",attrs = {\"class\":\"name\"}).text"
   ]
  },
  {
   "cell_type": "code",
   "execution_count": 26,
   "id": "dbd66488",
   "metadata": {},
   "outputs": [
    {
     "name": "stdout",
     "output_type": "stream",
     "text": [
      "NIVEA Perfect & Radiant Even Tone Day And Night Cream For Women - 50ml\n"
     ]
    }
   ],
   "source": [
    "print(first_items_name)"
   ]
  },
  {
   "cell_type": "code",
   "execution_count": 27,
   "id": "7f3805e1",
   "metadata": {},
   "outputs": [],
   "source": [
    "##price\n",
    "first_items = items[0]\n",
    "first_items_price = first_items.find(\"div\", attrs = {\"class\":\"prc\"}).text"
   ]
  },
  {
   "cell_type": "code",
   "execution_count": 28,
   "id": "7fcb715c",
   "metadata": {},
   "outputs": [
    {
     "name": "stdout",
     "output_type": "stream",
     "text": [
      "KSh 999\n"
     ]
    }
   ],
   "source": [
    "print(first_items_price)"
   ]
  },
  {
   "cell_type": "code",
   "execution_count": 32,
   "id": "4c2e3224",
   "metadata": {},
   "outputs": [],
   "source": [
    "##old price\n",
    "\n",
    "first_items = items[0]\n",
    "first_items_old_price = first_items.find(\"div\", attrs = {\"class\":\"old\"}).text"
   ]
  },
  {
   "cell_type": "code",
   "execution_count": 33,
   "id": "01506db3",
   "metadata": {},
   "outputs": [
    {
     "name": "stdout",
     "output_type": "stream",
     "text": [
      "KSh 1,560\n"
     ]
    }
   ],
   "source": [
    "print(first_items_old_price)"
   ]
  },
  {
   "cell_type": "code",
   "execution_count": 34,
   "id": "17d398a8",
   "metadata": {},
   "outputs": [],
   "source": [
    "##discount\n",
    "first_items = items[0]\n",
    "first_items_discount = first_items.find(\"div\", attrs = {\"class\":\"bdg _dsct _sm\"}).text"
   ]
  },
  {
   "cell_type": "code",
   "execution_count": 35,
   "id": "0551caf3",
   "metadata": {},
   "outputs": [
    {
     "name": "stdout",
     "output_type": "stream",
     "text": [
      "36%\n"
     ]
    }
   ],
   "source": [
    "print(first_items_discount)"
   ]
  },
  {
   "cell_type": "code",
   "execution_count": 40,
   "id": "71b6ad9d",
   "metadata": {},
   "outputs": [],
   "source": [
    "##product link\n",
    "first_items = items[0]\n",
    "first_items_link = first_items.find(\"a\", attrs = {\"class\":\"core\"}).get(\"href\")"
   ]
  },
  {
   "cell_type": "code",
   "execution_count": 41,
   "id": "0f303d5c",
   "metadata": {},
   "outputs": [
    {
     "name": "stdout",
     "output_type": "stream",
     "text": [
      "/nivea-perfect-radiant-even-tone-day-and-night-cream-for-women-50ml-68528030.html\n"
     ]
    }
   ],
   "source": [
    "print(first_items_link)\n"
   ]
  },
  {
   "cell_type": "code",
   "execution_count": 52,
   "id": "79345dbc",
   "metadata": {},
   "outputs": [
    {
     "name": "stdout",
     "output_type": "stream",
     "text": [
      "40\n"
     ]
    }
   ],
   "source": [
    "records= []\n",
    "for item in items:\n",
    "    try:\n",
    "        item_name =item.find(\"h3\",attrs = {\"class\":\"name\"}).text\n",
    "        current_price =item.find(\"div\", attrs = {\"class\":\"prc\"}).text\n",
    "        old_price_element = item.find(\"div\", attrs = {\"class\":\"old\"})\n",
    "        item_discount_element = item.find(\"div\", attrs = {\"class\":\"bdg _dsct _sm\"})\n",
    "        item_link = item.find(\"a\", attrs = {\"class\":\"core\"}).get(\"href\")\n",
    "\n",
    "        if old_price_element: \n",
    "            old_price = old_price_element.text\n",
    "        else:\n",
    "            old_price = None\n",
    "        if item_discount_element:\n",
    "            item_discount = item_discount_element.text\n",
    "        else:\n",
    "            item_dicount = None\n",
    "        records.append(( item_name, current_price,old_price, item_discount, item_link))\n",
    "\n",
    "    except AttributeError:\n",
    "        records.append(None)\n",
    "print(len(records))\n"
   ]
  },
  {
   "cell_type": "code",
   "execution_count": 54,
   "id": "1ebd8f2b",
   "metadata": {},
   "outputs": [
    {
     "data": {
      "text/plain": [
       "[('NIVEA Perfect & Radiant Even Tone Day And Night Cream For Women - 50ml',\n",
       "  'KSh 999',\n",
       "  'KSh 1,560',\n",
       "  '36%',\n",
       "  '/nivea-perfect-radiant-even-tone-day-and-night-cream-for-women-50ml-68528030.html'),\n",
       " ('NIVEA Radiant & Beauty Advanced Care Lotion For Women - 400ml (Pack Of 2)',\n",
       "  'KSh 949',\n",
       "  'KSh 1,460',\n",
       "  '35%',\n",
       "  '/nivea-radiant-beauty-advanced-care-lotion-for-women-400ml-pack-of-2-94993120.html'),\n",
       " ('NIVEA Nourishing Cocoa Body Lotion With Cocoa Butter 400ml (Pack Of 2)',\n",
       "  'KSh 1,174',\n",
       "  'KSh 1,302',\n",
       "  '10%',\n",
       "  '/nivea-nourishing-cocoa-body-lotion-with-cocoa-butter-400ml-pack-of-2-68528031.html'),\n",
       " ('NIVEA Pearl & Beauty Anti-Perspirant Rollon, 48h - 50ml (Pack Of 2)',\n",
       "  'KSh 728',\n",
       "  'KSh 1,040',\n",
       "  '30%',\n",
       "  '/nivea-pearl-beauty-anti-perspirant-rollon-48h-50ml-pack-of-2-68528032.html'),\n",
       " ('NIVEA MEN Deep Antibacterial Anti-Perspirant Rollon,48h - 50ml (Pack Of 2)',\n",
       "  'KSh 728',\n",
       "  'KSh 1,040',\n",
       "  '30%',\n",
       "  '/nivea-men-deep-antibacterial-anti-perspirant-rollon48h-50ml-pack-of-2-68528034.html'),\n",
       " ('NIVEA Pearl & Beauty Black Pearl Fine Fragrance Anti-Perspirant Roll-On, 48h - 50ml (Pack Of 2)',\n",
       "  'KSh 728',\n",
       "  'KSh 1,040',\n",
       "  '30%',\n",
       "  '/nivea-pearl-beauty-black-pearl-fine-fragrance-anti-perspirant-roll-on-48h-50ml-pack-of-2-91490010.html'),\n",
       " ('NIVEA Rich Nourishing Body Lotion For Women - 400ml (Pack Of 2)',\n",
       "  'KSh 896',\n",
       "  'KSh 1,280',\n",
       "  '30%',\n",
       "  '/nivea-rich-nourishing-body-lotion-for-women-400ml-pack-of-2-68528019.html'),\n",
       " ('NIVEA Perfect & Radiant Luminous630 Anti Dark Marks Serum, 30ml & Day Cream, 40ml',\n",
       "  'KSh 3,647',\n",
       "  'KSh 5,610',\n",
       "  '35%',\n",
       "  '/nivea-perfect-radiant-luminous630-anti-dark-marks-serum-30ml-day-cream-40ml-68528002.html'),\n",
       " ('NIVEA Perfect & Radiant Even Tone Day Cream SPF 15 For Women-50ml',\n",
       "  'KSh 585',\n",
       "  'KSh 780',\n",
       "  '25%',\n",
       "  '/nivea-perfect-radiant-even-tone-day-cream-spf-15-for-women-50ml-67957563.html'),\n",
       " ('NIVEA Q10 Power Anti-Wrinkle Day Cream 50ml & Night Cream 50ml',\n",
       "  'KSh 2,496',\n",
       "  'KSh 3,840',\n",
       "  '35%',\n",
       "  '/nivea-q10-power-anti-wrinkle-day-cream-50ml-night-cream-50ml-68528036.html'),\n",
       " ('Garnier Vitamin C Booster Serum 30ml Twin Pack',\n",
       "  'KSh 2,625',\n",
       "  'KSh 3,500',\n",
       "  '25%',\n",
       "  '/garnier-vitamin-c-booster-serum-30ml-twin-pack-122217050.html'),\n",
       " ('Garnier Anti-Blemish Charcoal Serum With AHA + BHA & Niacinamide For Acne Prone Skin',\n",
       "  'KSh 1,400',\n",
       "  'KSh 1,750',\n",
       "  '20%',\n",
       "  '/garnier-anti-blemish-charcoal-serum-with-aha-bha-niacinamide-for-acne-prone-skin-119519704.html'),\n",
       " ('Garnier Even & Matte Vitamin C Protection Cream SPF30 50ml',\n",
       "  'KSh 1,020',\n",
       "  'KSh 1,200',\n",
       "  '15%',\n",
       "  '/garnier-even-matte-vitamin-c-protection-cream-spf30-50ml-69384579.html'),\n",
       " ('Vitron Smart 32\" Frameless Tv Htc3200s Netflix & Youtube +  Wall Bracket & Power Guard',\n",
       "  'KSh 14,999',\n",
       "  'KSh 17,999',\n",
       "  '17%',\n",
       "  '/vitron-smart-32-frameless-tv-htc3200s-netflix-youtube-wall-bracket-power-guard-86890778.html'),\n",
       " ('Garnier Even & Matte  Vitamin C Booster Serum 15ml',\n",
       "  'KSh 850',\n",
       "  None,\n",
       "  '17%',\n",
       "  '/garnier-even-matte-vitamin-c-booster-serum-15ml-115443314.html'),\n",
       " ('Epson EcoTank L3250 A4 WIRELESS Printer (All-in-One)',\n",
       "  'KSh 27,999',\n",
       "  'KSh 38,000',\n",
       "  '26%',\n",
       "  '/epson-ecotank-l3250-a4-wireless-printer-all-in-one-112887290.html'),\n",
       " ('2IN1 Wired Keyboard And Mouse Set Optical Mouse',\n",
       "  'KSh 799',\n",
       "  'KSh 1,399',\n",
       "  '43%',\n",
       "  '/generic-2in1-wired-keyboard-and-mouse-set-optical-mouse-159186874.html'),\n",
       " ('Garnier Even & Matte  Vitamin C Booster Serum 30ml.',\n",
       "  'KSh 1,400',\n",
       "  'KSh 1,750',\n",
       "  '20%',\n",
       "  '/garnier-even-matte-vitamin-c-booster-serum-30ml.-47090194.html'),\n",
       " ('Garnier Even & Matte Dark Spot Corrector',\n",
       "  'KSh 1,840',\n",
       "  'KSh 2,300',\n",
       "  '20%',\n",
       "  '/garnier-even-matte-dark-spot-corrector-33005024.html'),\n",
       " (\"Fashion 6Pcs Soft Cotton Checked Men's Boxers – Multicolor\",\n",
       "  'KSh 618',\n",
       "  'KSh 688',\n",
       "  '10%',\n",
       "  '/fashion-6pcs-soft-cotton-checked-mens-boxers-multicolor-82923419.html'),\n",
       " ('Garnier Even & Matte Vitamin C Cleansing Foam',\n",
       "  'KSh 693',\n",
       "  'KSh 815',\n",
       "  '15%',\n",
       "  '/garnier-even-matte-vitamin-c-cleansing-foam-30685679.html'),\n",
       " ('Maybelline Lasting Fix Setting Spray',\n",
       "  'KSh 1,575',\n",
       "  'KSh 2,100',\n",
       "  '25%',\n",
       "  '/maybelline-lasting-fix-setting-spray-19673223.html'),\n",
       " ('AILYONS FK-0301 Stainless Steel 1.8L Electric Kettle-Black',\n",
       "  'KSh 729',\n",
       "  'KSh 1,399',\n",
       "  '48%',\n",
       "  '/ailyons-fk-0301-stainless-steel-1.8l-electric-kettle-black-34080919.html'),\n",
       " ('Vitron HTC4388FS - 43\" Smart  Android Frameless TV - Black',\n",
       "  'KSh 21,359',\n",
       "  'KSh 23,999',\n",
       "  '11%',\n",
       "  '/vitron-htc4388fs-43-smart-android-frameless-tv-black-93348943.html'),\n",
       " ('Jikokoa Xtra - Black',\n",
       "  'KSh 2,999',\n",
       "  'KSh 4,000',\n",
       "  '25%',\n",
       "  '/jikokoa-xtra-black-8282304.html'),\n",
       " ('Jameson Jameson Irish Whiskey - 1 Litre',\n",
       "  'KSh 2,599',\n",
       "  'KSh 3,827',\n",
       "  '32%',\n",
       "  '/jameson-jameson-irish-whiskey-1-litre-58538274.html'),\n",
       " ('Garnier Skin Active Hydrabomb Chamomile Tissue Face Mask',\n",
       "  'KSh 350',\n",
       "  None,\n",
       "  '32%',\n",
       "  '/garnier-skin-active-hydrabomb-chamomile-tissue-face-mask-18754632.html'),\n",
       " ('AILYONS HD-198A Electric Dry Iron Box White & Blue',\n",
       "  'KSh 799',\n",
       "  'KSh 1,299',\n",
       "  '38%',\n",
       "  '/ailyons-hd-198a-electric-dry-iron-box-white-blue-47419573.html'),\n",
       " ('Maybelline Lifter Gloss Hydrating Lip Gloss With Hyaluronic Acid, Topaz',\n",
       "  'KSh 1,900',\n",
       "  None,\n",
       "  '38%',\n",
       "  '/maybelline-lifter-gloss-hydrating-lip-gloss-with-hyaluronic-acid-topaz-61991064.html'),\n",
       " ('Garnier Even & Matte  Vitamin C Micellar Cleansing Water - 400ml',\n",
       "  'KSh 1,275',\n",
       "  'KSh 1,700',\n",
       "  '25%',\n",
       "  '/garnier-even-matte-vitamin-c-micellar-cleansing-water-400ml-39042177.html'),\n",
       " ('Garnier Micellar Cleansing Jelly Water With Charcoal',\n",
       "  'KSh 895',\n",
       "  None,\n",
       "  '25%',\n",
       "  '/garnier-micellar-cleansing-jelly-water-with-charcoal-102909993.html'),\n",
       " ('Garnier Pure Active 3 In1 Charcoal Anti Blackhead Mask Wash Scrub -150ml',\n",
       "  'KSh 1,101',\n",
       "  'KSh 1,295',\n",
       "  '15%',\n",
       "  '/garnier-pure-active-3-in1-charcoal-anti-blackhead-mask-wash-scrub-150ml-15855244.html'),\n",
       " ('Maybelline Volume Express Colossal 100% Black Mascara',\n",
       "  'KSh 875',\n",
       "  'KSh 1,250',\n",
       "  '30%',\n",
       "  '/maybelline-volume-express-colossal-100-black-mascara-928719.html'),\n",
       " ('Fashion 4Pairs Finest Cotton Freesize Unisex Plain Invisible Socks',\n",
       "  'KSh 227',\n",
       "  'KSh 345',\n",
       "  '34%',\n",
       "  '/fashion-4pairs-finest-cotton-freesize-unisex-plain-invisible-socks-43142431.html'),\n",
       " ('AILYONS FK-0306 Stainless Steel 1.8L Electric Kettle-White',\n",
       "  'KSh 809',\n",
       "  'KSh 1,399',\n",
       "  '42%',\n",
       "  '/ailyons-fk-0306-stainless-steel-1.8l-electric-kettle-white-61982685.html'),\n",
       " (\"Hikers 32'' Digital Frameless HD LED TV-Black\",\n",
       "  'KSh 11,999',\n",
       "  'KSh 18,999',\n",
       "  '37%',\n",
       "  '/hikers-32-digital-frameless-hd-led-tv-black-130118973.html'),\n",
       " ('Vitron V527 - 2.1 CH Multimedia Speaker, BT/USB/SD/FM - 9000W',\n",
       "  'KSh 5,459',\n",
       "  'KSh 7,599',\n",
       "  '28%',\n",
       "  '/vitron-v527-2.1-ch-multimedia-speaker-btusbsdfm-9000w-25642251.html'),\n",
       " ('AILYONS FK-0308 Stainless Steel 2.2L Electric Kettle',\n",
       "  'KSh 1,059',\n",
       "  'KSh 1,599',\n",
       "  '34%',\n",
       "  '/ailyons-fk-0308-stainless-steel-2.2l-electric-kettle-74991063.html'),\n",
       " ('Infinix Smart 7 HD, 6.6\", 2GB RAM, 64GB, 5000mAh, 4G(DUAL SIM) - Ink Black.',\n",
       "  'KSh 12,799',\n",
       "  'KSh 14,999',\n",
       "  '15%',\n",
       "  '/infinix-smart-7-hd-6.6-2gb-ram-64gb-5000mah-4gdual-sim-ink-black.-126833209.html'),\n",
       " ('Garnier Charcoal Serum With AHA+BHA 30ml Twin Pack',\n",
       "  'KSh 2,625',\n",
       "  'KSh 3,500',\n",
       "  '25%',\n",
       "  '/garnier-charcoal-serum-with-ahabha-30ml-twin-pack-148758570.html')]"
      ]
     },
     "execution_count": 54,
     "metadata": {},
     "output_type": "execute_result"
    }
   ],
   "source": [
    "records"
   ]
  },
  {
   "cell_type": "code",
   "execution_count": 86,
   "id": "ecece28e",
   "metadata": {},
   "outputs": [
    {
     "name": "stdout",
     "output_type": "stream",
     "text": [
      "page 1 scrapped successfully\n",
      "page 2 scrapped successfully\n",
      "page 3 scrapped successfully\n",
      "page 4 scrapped successfully\n",
      "page 5 scrapped successfully\n",
      "page 6 scrapped successfully\n",
      "page 7 scrapped successfully\n",
      "page 8 scrapped successfully\n",
      "page 9 scrapped successfully\n",
      "page 10 scrapped successfully\n",
      "page 11 scrapped successfully\n",
      "page 12 scrapped successfully\n",
      "page 13 scrapped successfully\n",
      "page 14 scrapped successfully\n",
      "page 15 scrapped successfully\n",
      "page 16 scrapped successfully\n",
      "page 17 scrapped successfully\n",
      "page 18 scrapped successfully\n",
      "page 19 scrapped successfully\n",
      "page 20 scrapped successfully\n",
      "page 21 scrapped successfully\n",
      "page 22 scrapped successfully\n",
      "page 23 scrapped successfully\n",
      "page 24 scrapped successfully\n",
      "page 25 scrapped successfully\n",
      "page 26 scrapped successfully\n",
      "page 27 scrapped successfully\n",
      "page 28 scrapped successfully\n",
      "page 29 scrapped successfully\n",
      "page 30 scrapped successfully\n",
      "page 31 scrapped successfully\n",
      "page 32 scrapped successfully\n",
      "page 33 scrapped successfully\n",
      "page 34 scrapped successfully\n",
      "page 35 scrapped successfully\n",
      "page 36 scrapped successfully\n",
      "page 37 scrapped successfully\n",
      "page 38 scrapped successfully\n",
      "page 39 scrapped successfully\n",
      "page 40 scrapped successfully\n",
      "page 41 scrapped successfully\n",
      "page 42 scrapped successfully\n",
      "page 43 scrapped successfully\n",
      "page 44 scrapped successfully\n",
      "page 45 scrapped successfully\n",
      "page 46 scrapped successfully\n",
      "page 47 scrapped successfully\n",
      "page 48 scrapped successfully\n",
      "page 49 scrapped successfully\n",
      "page 50 scrapped successfully\n"
     ]
    }
   ],
   "source": [
    "import time\n",
    "base_url = \"https://www.jumia.co.ke/all-products/?page={}#catalog-listing\"\n",
    "for page_number in range (1,51):\n",
    "    url= base_url.format(page_number)\n",
    "    time.sleep(5)\n",
    "    response = requests.get(url)\n",
    "    if response.status_code ==200:\n",
    "        soup = BeautifulSoup(response.text,\"html.parser\")\n",
    "        print(f\"page {page_number} scrapped successfully\")\n",
    "    else:\n",
    "        print(f\"page {page_number} not scrapped\")\n",
    "        items = soup.find_all(\"article\", attrs = {\"class\":\"prd _fb col c-prd\"})\n",
    "    for item in items:\n",
    "        try:\n",
    "            item_name =item.find(\"h3\",attrs = {\"class\":\"name\"}).text\n",
    "            current_price =item.find(\"div\", attrs = {\"class\":\"prc\"}).text\n",
    "            old_price_element = item.find(\"div\", attrs = {\"class\":\"old\"})\n",
    "            item_discount_element = item.find(\"div\", attrs = {\"class\":\"bdg _dsct _sm\"})\n",
    "            item_link = item.find(\"a\", attrs = {\"class\":\"core\"}).get(\"href\")\n",
    "            \n",
    "            if old_price_element:\n",
    "                old_price = old_price_element.text\n",
    "            else:\n",
    "                old_price = None\n",
    "            if item_discount_element:\n",
    "                item_discount = item_discount_element.text\n",
    "            else:\n",
    "                item_dicount = None\n",
    "            records.append(( item_name, current_price,old_price, item_discount, item_link))\n",
    "        except AttributeError:\n",
    "            records.append(None)\n",
    "                \n",
    "\n",
    "            "
   ]
  },
  {
   "cell_type": "code",
   "execution_count": 87,
   "id": "b5c478b7",
   "metadata": {},
   "outputs": [
    {
     "data": {
      "text/plain": [
       "2000"
      ]
     },
     "execution_count": 87,
     "metadata": {},
     "output_type": "execute_result"
    }
   ],
   "source": [
    "len(records)"
   ]
  },
  {
   "cell_type": "code",
   "execution_count": 115,
   "id": "0d5aeeaf",
   "metadata": {},
   "outputs": [],
   "source": [
    "data = pd.DataFrame(records, columns =[\"item_name\",\"current_price\",\"old_price_element\",\"item_discount_element\",\"item_link\"])"
   ]
  },
  {
   "cell_type": "code",
   "execution_count": 116,
   "id": "0f4cb20a",
   "metadata": {},
   "outputs": [
    {
     "data": {
      "text/html": [
       "<div>\n",
       "<style scoped>\n",
       "    .dataframe tbody tr th:only-of-type {\n",
       "        vertical-align: middle;\n",
       "    }\n",
       "\n",
       "    .dataframe tbody tr th {\n",
       "        vertical-align: top;\n",
       "    }\n",
       "\n",
       "    .dataframe thead th {\n",
       "        text-align: right;\n",
       "    }\n",
       "</style>\n",
       "<table border=\"1\" class=\"dataframe\">\n",
       "  <thead>\n",
       "    <tr style=\"text-align: right;\">\n",
       "      <th></th>\n",
       "      <th>item_name</th>\n",
       "      <th>current_price</th>\n",
       "      <th>old_price_element</th>\n",
       "      <th>item_discount_element</th>\n",
       "      <th>item_link</th>\n",
       "    </tr>\n",
       "  </thead>\n",
       "  <tbody>\n",
       "    <tr>\n",
       "      <th>0</th>\n",
       "      <td>NIVEA Perfect &amp; Radiant Even Tone Day And Nigh...</td>\n",
       "      <td>KSh 999</td>\n",
       "      <td>KSh 1,560</td>\n",
       "      <td>36%</td>\n",
       "      <td>/nivea-perfect-radiant-even-tone-day-and-night...</td>\n",
       "    </tr>\n",
       "    <tr>\n",
       "      <th>1</th>\n",
       "      <td>NIVEA Radiant &amp; Beauty Advanced Care Lotion Fo...</td>\n",
       "      <td>KSh 949</td>\n",
       "      <td>KSh 1,460</td>\n",
       "      <td>35%</td>\n",
       "      <td>/nivea-radiant-beauty-advanced-care-lotion-for...</td>\n",
       "    </tr>\n",
       "    <tr>\n",
       "      <th>2</th>\n",
       "      <td>NIVEA Nourishing Cocoa Body Lotion With Cocoa ...</td>\n",
       "      <td>KSh 1,174</td>\n",
       "      <td>KSh 1,302</td>\n",
       "      <td>10%</td>\n",
       "      <td>/nivea-nourishing-cocoa-body-lotion-with-cocoa...</td>\n",
       "    </tr>\n",
       "    <tr>\n",
       "      <th>3</th>\n",
       "      <td>NIVEA Pearl &amp; Beauty Anti-Perspirant Rollon, 4...</td>\n",
       "      <td>KSh 728</td>\n",
       "      <td>KSh 1,040</td>\n",
       "      <td>30%</td>\n",
       "      <td>/nivea-pearl-beauty-anti-perspirant-rollon-48h...</td>\n",
       "    </tr>\n",
       "    <tr>\n",
       "      <th>4</th>\n",
       "      <td>NIVEA MEN Deep Antibacterial Anti-Perspirant R...</td>\n",
       "      <td>KSh 728</td>\n",
       "      <td>KSh 1,040</td>\n",
       "      <td>30%</td>\n",
       "      <td>/nivea-men-deep-antibacterial-anti-perspirant-...</td>\n",
       "    </tr>\n",
       "    <tr>\n",
       "      <th>5</th>\n",
       "      <td>NIVEA Pearl &amp; Beauty Black Pearl Fine Fragranc...</td>\n",
       "      <td>KSh 728</td>\n",
       "      <td>KSh 1,040</td>\n",
       "      <td>30%</td>\n",
       "      <td>/nivea-pearl-beauty-black-pearl-fine-fragrance...</td>\n",
       "    </tr>\n",
       "    <tr>\n",
       "      <th>6</th>\n",
       "      <td>NIVEA Rich Nourishing Body Lotion For Women - ...</td>\n",
       "      <td>KSh 896</td>\n",
       "      <td>KSh 1,280</td>\n",
       "      <td>30%</td>\n",
       "      <td>/nivea-rich-nourishing-body-lotion-for-women-4...</td>\n",
       "    </tr>\n",
       "    <tr>\n",
       "      <th>7</th>\n",
       "      <td>NIVEA Perfect &amp; Radiant Luminous630 Anti Dark ...</td>\n",
       "      <td>KSh 3,647</td>\n",
       "      <td>KSh 5,610</td>\n",
       "      <td>35%</td>\n",
       "      <td>/nivea-perfect-radiant-luminous630-anti-dark-m...</td>\n",
       "    </tr>\n",
       "    <tr>\n",
       "      <th>8</th>\n",
       "      <td>NIVEA Perfect &amp; Radiant Even Tone Day Cream SP...</td>\n",
       "      <td>KSh 585</td>\n",
       "      <td>KSh 780</td>\n",
       "      <td>25%</td>\n",
       "      <td>/nivea-perfect-radiant-even-tone-day-cream-spf...</td>\n",
       "    </tr>\n",
       "    <tr>\n",
       "      <th>9</th>\n",
       "      <td>NIVEA Q10 Power Anti-Wrinkle Day Cream 50ml &amp; ...</td>\n",
       "      <td>KSh 2,496</td>\n",
       "      <td>KSh 3,840</td>\n",
       "      <td>35%</td>\n",
       "      <td>/nivea-q10-power-anti-wrinkle-day-cream-50ml-n...</td>\n",
       "    </tr>\n",
       "  </tbody>\n",
       "</table>\n",
       "</div>"
      ],
      "text/plain": [
       "                                           item_name current_price  \\\n",
       "0  NIVEA Perfect & Radiant Even Tone Day And Nigh...       KSh 999   \n",
       "1  NIVEA Radiant & Beauty Advanced Care Lotion Fo...       KSh 949   \n",
       "2  NIVEA Nourishing Cocoa Body Lotion With Cocoa ...     KSh 1,174   \n",
       "3  NIVEA Pearl & Beauty Anti-Perspirant Rollon, 4...       KSh 728   \n",
       "4  NIVEA MEN Deep Antibacterial Anti-Perspirant R...       KSh 728   \n",
       "5  NIVEA Pearl & Beauty Black Pearl Fine Fragranc...       KSh 728   \n",
       "6  NIVEA Rich Nourishing Body Lotion For Women - ...       KSh 896   \n",
       "7  NIVEA Perfect & Radiant Luminous630 Anti Dark ...     KSh 3,647   \n",
       "8  NIVEA Perfect & Radiant Even Tone Day Cream SP...       KSh 585   \n",
       "9  NIVEA Q10 Power Anti-Wrinkle Day Cream 50ml & ...     KSh 2,496   \n",
       "\n",
       "  old_price_element item_discount_element  \\\n",
       "0         KSh 1,560                   36%   \n",
       "1         KSh 1,460                   35%   \n",
       "2         KSh 1,302                   10%   \n",
       "3         KSh 1,040                   30%   \n",
       "4         KSh 1,040                   30%   \n",
       "5         KSh 1,040                   30%   \n",
       "6         KSh 1,280                   30%   \n",
       "7         KSh 5,610                   35%   \n",
       "8           KSh 780                   25%   \n",
       "9         KSh 3,840                   35%   \n",
       "\n",
       "                                           item_link  \n",
       "0  /nivea-perfect-radiant-even-tone-day-and-night...  \n",
       "1  /nivea-radiant-beauty-advanced-care-lotion-for...  \n",
       "2  /nivea-nourishing-cocoa-body-lotion-with-cocoa...  \n",
       "3  /nivea-pearl-beauty-anti-perspirant-rollon-48h...  \n",
       "4  /nivea-men-deep-antibacterial-anti-perspirant-...  \n",
       "5  /nivea-pearl-beauty-black-pearl-fine-fragrance...  \n",
       "6  /nivea-rich-nourishing-body-lotion-for-women-4...  \n",
       "7  /nivea-perfect-radiant-luminous630-anti-dark-m...  \n",
       "8  /nivea-perfect-radiant-even-tone-day-cream-spf...  \n",
       "9  /nivea-q10-power-anti-wrinkle-day-cream-50ml-n...  "
      ]
     },
     "execution_count": 116,
     "metadata": {},
     "output_type": "execute_result"
    }
   ],
   "source": [
    "data.head(10)"
   ]
  },
  {
   "cell_type": "code",
   "execution_count": 117,
   "id": "afab5d96",
   "metadata": {},
   "outputs": [
    {
     "name": "stdout",
     "output_type": "stream",
     "text": [
      "<class 'pandas.core.frame.DataFrame'>\n",
      "RangeIndex: 2000 entries, 0 to 1999\n",
      "Data columns (total 5 columns):\n",
      " #   Column                 Non-Null Count  Dtype \n",
      "---  ------                 --------------  ----- \n",
      " 0   item_name              2000 non-null   object\n",
      " 1   current_price          2000 non-null   object\n",
      " 2   old_price_element      1800 non-null   object\n",
      " 3   item_discount_element  2000 non-null   object\n",
      " 4   item_link              2000 non-null   object\n",
      "dtypes: object(5)\n",
      "memory usage: 78.3+ KB\n"
     ]
    }
   ],
   "source": [
    "data.info()"
   ]
  },
  {
   "cell_type": "code",
   "execution_count": 118,
   "id": "05256e72",
   "metadata": {},
   "outputs": [],
   "source": [
    "data.dropna(inplace = True)"
   ]
  },
  {
   "cell_type": "code",
   "execution_count": 119,
   "id": "0ca8bf42",
   "metadata": {},
   "outputs": [
    {
     "name": "stdout",
     "output_type": "stream",
     "text": [
      "<class 'pandas.core.frame.DataFrame'>\n",
      "Index: 1800 entries, 0 to 1999\n",
      "Data columns (total 5 columns):\n",
      " #   Column                 Non-Null Count  Dtype \n",
      "---  ------                 --------------  ----- \n",
      " 0   item_name              1800 non-null   object\n",
      " 1   current_price          1800 non-null   object\n",
      " 2   old_price_element      1800 non-null   object\n",
      " 3   item_discount_element  1800 non-null   object\n",
      " 4   item_link              1800 non-null   object\n",
      "dtypes: object(5)\n",
      "memory usage: 84.4+ KB\n"
     ]
    }
   ],
   "source": [
    "data.info()"
   ]
  },
  {
   "cell_type": "code",
   "execution_count": 126,
   "id": "022f2c4d",
   "metadata": {
    "scrolled": true
   },
   "outputs": [
    {
     "name": "stdout",
     "output_type": "stream",
     "text": [
      "<class 'pandas.core.frame.DataFrame'>\n",
      "Index: 1800 entries, 0 to 1999\n",
      "Data columns (total 5 columns):\n",
      " #   Column                 Non-Null Count  Dtype  \n",
      "---  ------                 --------------  -----  \n",
      " 0   item_name              1800 non-null   object \n",
      " 1   current_price          1800 non-null   object \n",
      " 2   old_price_element      1800 non-null   object \n",
      " 3   item_discount_element  1800 non-null   float64\n",
      " 4   item_link              1800 non-null   object \n",
      "dtypes: float64(1), object(4)\n",
      "memory usage: 84.4+ KB\n"
     ]
    }
   ],
   "source": [
    "#changing discount to float\n",
    "def change_disc_col (data):\n",
    "    data[\"item_discount_element\"]= data[\"item_discount_element\"].str.replace(\"%\", \"\")\n",
    "    data[\"item_discount_element\"] = data[\"item_discount_element\"].astype(float)\n",
    "    return data.info()\n",
    "\n",
    "change_disc_col(data)"
   ]
  },
  {
   "cell_type": "code",
   "execution_count": null,
   "id": "76e2d29e",
   "metadata": {},
   "outputs": [],
   "source": [
    "## filtering out prices that have a range\n"
   ]
  },
  {
   "cell_type": "code",
   "execution_count": null,
   "id": "59b4a980",
   "metadata": {},
   "outputs": [],
   "source": [
    "17 mins- presentation\n",
    "python packages to publish to pip\n",
    "how to dockerize the solution without changing the configuration "
   ]
  }
 ],
 "metadata": {
  "kernelspec": {
   "display_name": "Python 3 (ipykernel)",
   "language": "python",
   "name": "python3"
  },
  "language_info": {
   "codemirror_mode": {
    "name": "ipython",
    "version": 3
   },
   "file_extension": ".py",
   "mimetype": "text/x-python",
   "name": "python",
   "nbconvert_exporter": "python",
   "pygments_lexer": "ipython3",
   "version": "3.11.5"
  }
 },
 "nbformat": 4,
 "nbformat_minor": 5
}
